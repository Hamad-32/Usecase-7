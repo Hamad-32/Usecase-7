{
 "cells": [
  {
   "cell_type": "code",
   "execution_count": 147,
   "id": "e69c4ba1-85f3-4a02-ae37-c64347a01803",
   "metadata": {},
   "outputs": [],
   "source": [
    "import warnings\n",
    "warnings.filterwarnings(\"ignore\")\n",
    "import pandas as pd\n",
    "import numpy as np\n",
    "import matplotlib.pyplot as plt\n",
    "import seaborn as sns\n",
    "\n",
    "from sklearn.model_selection import train_test_split\n",
    "from sklearn.metrics import mean_squared_error, r2_score, mean_absolute_error\n",
    "from sklearn.preprocessing import StandardScaler\n",
    "from sklearn.linear_model import LinearRegression\n",
    "from sklearn import metrics\n",
    "\n",
    "%matplotlib inline"
   ]
  },
  {
   "cell_type": "markdown",
   "id": "e395e8bf-b530-4720-8d0f-26811e927d6e",
   "metadata": {},
   "source": [
    "## Loading the data\n",
    "We can now load the dataset into pandas using the read_csv() function. This converts the CSV file into a Pandas dataframe."
   ]
  },
  {
   "cell_type": "code",
   "execution_count": 148,
   "id": "cf4030b0-aa7f-4bd7-8e9c-c1b7f4d202d0",
   "metadata": {},
   "outputs": [],
   "source": [
    "#Read in the csv file and convert to a Pandas dataframe\n",
    "df_Football_Players = pd.read_csv(\"..\\..\\data\\clean_data.csv\")"
   ]
  },
  {
   "cell_type": "markdown",
   "id": "ca5ed983-0f72-43eb-8168-6fafd48c562e",
   "metadata": {},
   "source": [
    "### Viewing the dataframe\n",
    "We can get a quick sense of the size of our dataset by using the shape method. This returns a tuple with the number of rows and columns in the dataset."
   ]
  },
  {
   "cell_type": "code",
   "execution_count": 149,
   "id": "bfde0b69-613c-4dd1-8ebf-e4d2e570e653",
   "metadata": {},
   "outputs": [
    {
     "data": {
      "text/plain": [
       "(10537, 23)"
      ]
     },
     "execution_count": 149,
     "metadata": {},
     "output_type": "execute_result"
    }
   ],
   "source": [
    "df_Football_Players.shape"
   ]
  },
  {
   "cell_type": "code",
   "execution_count": 150,
   "id": "672f2081-5a2c-4908-8cbd-29519fb3cac5",
   "metadata": {},
   "outputs": [
    {
     "data": {
      "text/html": [
       "<div>\n",
       "<style scoped>\n",
       "    .dataframe tbody tr th:only-of-type {\n",
       "        vertical-align: middle;\n",
       "    }\n",
       "\n",
       "    .dataframe tbody tr th {\n",
       "        vertical-align: top;\n",
       "    }\n",
       "\n",
       "    .dataframe thead th {\n",
       "        text-align: right;\n",
       "    }\n",
       "</style>\n",
       "<table border=\"1\" class=\"dataframe\">\n",
       "  <thead>\n",
       "    <tr style=\"text-align: right;\">\n",
       "      <th></th>\n",
       "      <th>Unnamed: 0</th>\n",
       "      <th>player</th>\n",
       "      <th>team</th>\n",
       "      <th>name</th>\n",
       "      <th>position</th>\n",
       "      <th>height</th>\n",
       "      <th>age</th>\n",
       "      <th>appearance</th>\n",
       "      <th>goals</th>\n",
       "      <th>assists</th>\n",
       "      <th>...</th>\n",
       "      <th>goals conceded</th>\n",
       "      <th>clean sheets</th>\n",
       "      <th>minutes played</th>\n",
       "      <th>days_injured</th>\n",
       "      <th>games_injured</th>\n",
       "      <th>award</th>\n",
       "      <th>current_value</th>\n",
       "      <th>highest_value</th>\n",
       "      <th>position_encoded</th>\n",
       "      <th>winger</th>\n",
       "    </tr>\n",
       "  </thead>\n",
       "  <tbody>\n",
       "    <tr>\n",
       "      <th>0</th>\n",
       "      <td>0</td>\n",
       "      <td>/david-de-gea/profil/spieler/59377</td>\n",
       "      <td>Manchester United</td>\n",
       "      <td>David de Gea</td>\n",
       "      <td>Goalkeeper</td>\n",
       "      <td>189.0</td>\n",
       "      <td>32.0</td>\n",
       "      <td>104</td>\n",
       "      <td>0.000000</td>\n",
       "      <td>0.000000</td>\n",
       "      <td>...</td>\n",
       "      <td>1.217252</td>\n",
       "      <td>0.335463</td>\n",
       "      <td>9390</td>\n",
       "      <td>42</td>\n",
       "      <td>5</td>\n",
       "      <td>13</td>\n",
       "      <td>15000000</td>\n",
       "      <td>70000000</td>\n",
       "      <td>1</td>\n",
       "      <td>0</td>\n",
       "    </tr>\n",
       "    <tr>\n",
       "      <th>1</th>\n",
       "      <td>1</td>\n",
       "      <td>/jack-butland/profil/spieler/128899</td>\n",
       "      <td>Manchester United</td>\n",
       "      <td>Jack Butland</td>\n",
       "      <td>Goalkeeper</td>\n",
       "      <td>196.0</td>\n",
       "      <td>30.0</td>\n",
       "      <td>15</td>\n",
       "      <td>0.000000</td>\n",
       "      <td>0.000000</td>\n",
       "      <td>...</td>\n",
       "      <td>1.242331</td>\n",
       "      <td>0.207055</td>\n",
       "      <td>1304</td>\n",
       "      <td>510</td>\n",
       "      <td>58</td>\n",
       "      <td>1</td>\n",
       "      <td>1500000</td>\n",
       "      <td>22000000</td>\n",
       "      <td>1</td>\n",
       "      <td>0</td>\n",
       "    </tr>\n",
       "    <tr>\n",
       "      <th>2</th>\n",
       "      <td>3</td>\n",
       "      <td>/lisandro-martinez/profil/spieler/480762</td>\n",
       "      <td>Manchester United</td>\n",
       "      <td>Lisandro Martínez</td>\n",
       "      <td>Defender Centre-Back</td>\n",
       "      <td>175.0</td>\n",
       "      <td>25.0</td>\n",
       "      <td>82</td>\n",
       "      <td>0.028090</td>\n",
       "      <td>0.056180</td>\n",
       "      <td>...</td>\n",
       "      <td>0.000000</td>\n",
       "      <td>0.000000</td>\n",
       "      <td>6408</td>\n",
       "      <td>175</td>\n",
       "      <td>22</td>\n",
       "      <td>9</td>\n",
       "      <td>50000000</td>\n",
       "      <td>50000000</td>\n",
       "      <td>2</td>\n",
       "      <td>0</td>\n",
       "    </tr>\n",
       "    <tr>\n",
       "      <th>3</th>\n",
       "      <td>4</td>\n",
       "      <td>/raphael-varane/profil/spieler/164770</td>\n",
       "      <td>Manchester United</td>\n",
       "      <td>Raphaël Varane</td>\n",
       "      <td>Defender Centre-Back</td>\n",
       "      <td>191.0</td>\n",
       "      <td>30.0</td>\n",
       "      <td>63</td>\n",
       "      <td>0.017889</td>\n",
       "      <td>0.017889</td>\n",
       "      <td>...</td>\n",
       "      <td>0.000000</td>\n",
       "      <td>0.000000</td>\n",
       "      <td>5031</td>\n",
       "      <td>238</td>\n",
       "      <td>51</td>\n",
       "      <td>21</td>\n",
       "      <td>40000000</td>\n",
       "      <td>80000000</td>\n",
       "      <td>2</td>\n",
       "      <td>0</td>\n",
       "    </tr>\n",
       "    <tr>\n",
       "      <th>4</th>\n",
       "      <td>5</td>\n",
       "      <td>/harry-maguire/profil/spieler/177907</td>\n",
       "      <td>Manchester United</td>\n",
       "      <td>Harry Maguire</td>\n",
       "      <td>Defender Centre-Back</td>\n",
       "      <td>194.0</td>\n",
       "      <td>30.0</td>\n",
       "      <td>68</td>\n",
       "      <td>0.037799</td>\n",
       "      <td>0.000000</td>\n",
       "      <td>...</td>\n",
       "      <td>0.000000</td>\n",
       "      <td>0.000000</td>\n",
       "      <td>4762</td>\n",
       "      <td>148</td>\n",
       "      <td>27</td>\n",
       "      <td>1</td>\n",
       "      <td>25000000</td>\n",
       "      <td>70000000</td>\n",
       "      <td>2</td>\n",
       "      <td>0</td>\n",
       "    </tr>\n",
       "  </tbody>\n",
       "</table>\n",
       "<p>5 rows × 23 columns</p>\n",
       "</div>"
      ],
      "text/plain": [
       "   Unnamed: 0                                    player               team  \\\n",
       "0           0        /david-de-gea/profil/spieler/59377  Manchester United   \n",
       "1           1       /jack-butland/profil/spieler/128899  Manchester United   \n",
       "2           3  /lisandro-martinez/profil/spieler/480762  Manchester United   \n",
       "3           4     /raphael-varane/profil/spieler/164770  Manchester United   \n",
       "4           5      /harry-maguire/profil/spieler/177907  Manchester United   \n",
       "\n",
       "                name              position  height   age  appearance  \\\n",
       "0       David de Gea            Goalkeeper   189.0  32.0         104   \n",
       "1       Jack Butland            Goalkeeper   196.0  30.0          15   \n",
       "2  Lisandro Martínez  Defender Centre-Back   175.0  25.0          82   \n",
       "3     Raphaël Varane  Defender Centre-Back   191.0  30.0          63   \n",
       "4      Harry Maguire  Defender Centre-Back   194.0  30.0          68   \n",
       "\n",
       "      goals   assists  ...  goals conceded  clean sheets  minutes played  \\\n",
       "0  0.000000  0.000000  ...        1.217252      0.335463            9390   \n",
       "1  0.000000  0.000000  ...        1.242331      0.207055            1304   \n",
       "2  0.028090  0.056180  ...        0.000000      0.000000            6408   \n",
       "3  0.017889  0.017889  ...        0.000000      0.000000            5031   \n",
       "4  0.037799  0.000000  ...        0.000000      0.000000            4762   \n",
       "\n",
       "   days_injured  games_injured  award  current_value  highest_value  \\\n",
       "0            42              5     13       15000000       70000000   \n",
       "1           510             58      1        1500000       22000000   \n",
       "2           175             22      9       50000000       50000000   \n",
       "3           238             51     21       40000000       80000000   \n",
       "4           148             27      1       25000000       70000000   \n",
       "\n",
       "   position_encoded  winger  \n",
       "0                 1       0  \n",
       "1                 1       0  \n",
       "2                 2       0  \n",
       "3                 2       0  \n",
       "4                 2       0  \n",
       "\n",
       "[5 rows x 23 columns]"
      ]
     },
     "execution_count": 150,
     "metadata": {},
     "output_type": "execute_result"
    }
   ],
   "source": [
    "df_Football_Players.head()"
   ]
  },
  {
   "attachments": {},
   "cell_type": "markdown",
   "id": "4e886ec7-388c-414b-ada7-803c2fb1f2cb",
   "metadata": {},
   "source": [
    "## Model\n",
    "\n",
    "\n"
   ]
  },
  {
   "cell_type": "markdown",
   "id": "1b0c048b",
   "metadata": {},
   "source": [
    "### Feature engineering: \n",
    "\n",
    "- Feature scaling\n",
    "- Aggregation\n",
    "- One hot coding\n",
    "\n",
    "-------------------"
   ]
  },
  {
   "cell_type": "code",
   "execution_count": 151,
   "id": "66903928",
   "metadata": {},
   "outputs": [],
   "source": [
    "df_Football_Players = df_Football_Players.drop(['name','player'],axis=1)"
   ]
  },
  {
   "cell_type": "code",
   "execution_count": 152,
   "id": "484cb76f",
   "metadata": {},
   "outputs": [
    {
     "data": {
      "text/plain": [
       "Index(['team', 'position'], dtype='object')"
      ]
     },
     "execution_count": 152,
     "metadata": {},
     "output_type": "execute_result"
    }
   ],
   "source": [
    "categorical_features = df_Football_Players.select_dtypes(include=object).columns\n",
    "numeric_features = df_Football_Players.select_dtypes(include=np.number).columns\n",
    "categorical_features"
   ]
  },
  {
   "cell_type": "code",
   "execution_count": 153,
   "id": "760179b7",
   "metadata": {},
   "outputs": [
    {
     "name": "stdout",
     "output_type": "stream",
     "text": [
      "team\n",
      "Daejeon Hana Citizen      46\n",
      "Jeonbuk Hyundai Motors    45\n",
      "FC Seoul                  43\n",
      "Gangwon FC                42\n",
      "Daegu FC                  42\n",
      "                          ..\n",
      "FC Barcelona              21\n",
      "Swansea City              21\n",
      "West Ham United           20\n",
      "Hatayspor                 12\n",
      "Gaziantep FK               6\n",
      "Name: count, Length: 374, dtype: int64\n",
      "position\n",
      "Defender Centre-Back          1771\n",
      "Attack Centre-Forward         1316\n",
      "Goalkeeper                    1206\n",
      "midfield-CentralMidfield      1130\n",
      "midfield-DefensiveMidfield     881\n",
      "Defender Right-Back            852\n",
      "Defender Left-Back             788\n",
      "midfield-AttackingMidfield     760\n",
      "Attack-RightWinger             705\n",
      "Attack-LeftWinger              703\n",
      "midfield-RightMidfield         101\n",
      "midfield-LeftMidfield           99\n",
      "midfield                        75\n",
      "Attack-SecondStriker            64\n",
      "Attack                          53\n",
      "Defender                        33\n",
      "Name: count, dtype: int64\n"
     ]
    }
   ],
   "source": [
    "for i in categorical_features:\n",
    "   print (df_Football_Players[i].value_counts())"
   ]
  },
  {
   "cell_type": "code",
   "execution_count": 154,
   "id": "329451e0",
   "metadata": {},
   "outputs": [],
   "source": [
    "# one hot coding for categorical_features\n",
    "df_Football_Players = pd.get_dummies(df_Football_Players,columns=categorical_features)\n"
   ]
  },
  {
   "cell_type": "code",
   "execution_count": 155,
   "id": "57e741fb-71c1-46ad-a526-d8f0b1564dc3",
   "metadata": {},
   "outputs": [
    {
     "data": {
      "text/html": [
       "<div>\n",
       "<style scoped>\n",
       "    .dataframe tbody tr th:only-of-type {\n",
       "        vertical-align: middle;\n",
       "    }\n",
       "\n",
       "    .dataframe tbody tr th {\n",
       "        vertical-align: top;\n",
       "    }\n",
       "\n",
       "    .dataframe thead th {\n",
       "        text-align: right;\n",
       "    }\n",
       "</style>\n",
       "<table border=\"1\" class=\"dataframe\">\n",
       "  <thead>\n",
       "    <tr style=\"text-align: right;\">\n",
       "      <th></th>\n",
       "      <th>Unnamed: 0</th>\n",
       "      <th>height</th>\n",
       "      <th>age</th>\n",
       "      <th>appearance</th>\n",
       "      <th>goals</th>\n",
       "      <th>assists</th>\n",
       "      <th>yellow cards</th>\n",
       "      <th>second yellow cards</th>\n",
       "      <th>red cards</th>\n",
       "      <th>goals conceded</th>\n",
       "      <th>...</th>\n",
       "      <th>position_Defender Centre-Back</th>\n",
       "      <th>position_Defender Left-Back</th>\n",
       "      <th>position_Defender Right-Back</th>\n",
       "      <th>position_Goalkeeper</th>\n",
       "      <th>position_midfield</th>\n",
       "      <th>position_midfield-AttackingMidfield</th>\n",
       "      <th>position_midfield-CentralMidfield</th>\n",
       "      <th>position_midfield-DefensiveMidfield</th>\n",
       "      <th>position_midfield-LeftMidfield</th>\n",
       "      <th>position_midfield-RightMidfield</th>\n",
       "    </tr>\n",
       "  </thead>\n",
       "  <tbody>\n",
       "    <tr>\n",
       "      <th>0</th>\n",
       "      <td>0</td>\n",
       "      <td>189.0</td>\n",
       "      <td>32.0</td>\n",
       "      <td>104</td>\n",
       "      <td>0.000000</td>\n",
       "      <td>0.000000</td>\n",
       "      <td>0.009585</td>\n",
       "      <td>0.0000</td>\n",
       "      <td>0.0</td>\n",
       "      <td>1.217252</td>\n",
       "      <td>...</td>\n",
       "      <td>False</td>\n",
       "      <td>False</td>\n",
       "      <td>False</td>\n",
       "      <td>True</td>\n",
       "      <td>False</td>\n",
       "      <td>False</td>\n",
       "      <td>False</td>\n",
       "      <td>False</td>\n",
       "      <td>False</td>\n",
       "      <td>False</td>\n",
       "    </tr>\n",
       "    <tr>\n",
       "      <th>1</th>\n",
       "      <td>1</td>\n",
       "      <td>196.0</td>\n",
       "      <td>30.0</td>\n",
       "      <td>15</td>\n",
       "      <td>0.000000</td>\n",
       "      <td>0.000000</td>\n",
       "      <td>0.069018</td>\n",
       "      <td>0.0000</td>\n",
       "      <td>0.0</td>\n",
       "      <td>1.242331</td>\n",
       "      <td>...</td>\n",
       "      <td>False</td>\n",
       "      <td>False</td>\n",
       "      <td>False</td>\n",
       "      <td>True</td>\n",
       "      <td>False</td>\n",
       "      <td>False</td>\n",
       "      <td>False</td>\n",
       "      <td>False</td>\n",
       "      <td>False</td>\n",
       "      <td>False</td>\n",
       "    </tr>\n",
       "    <tr>\n",
       "      <th>2</th>\n",
       "      <td>3</td>\n",
       "      <td>175.0</td>\n",
       "      <td>25.0</td>\n",
       "      <td>82</td>\n",
       "      <td>0.028090</td>\n",
       "      <td>0.056180</td>\n",
       "      <td>0.224719</td>\n",
       "      <td>0.0000</td>\n",
       "      <td>0.0</td>\n",
       "      <td>0.000000</td>\n",
       "      <td>...</td>\n",
       "      <td>True</td>\n",
       "      <td>False</td>\n",
       "      <td>False</td>\n",
       "      <td>False</td>\n",
       "      <td>False</td>\n",
       "      <td>False</td>\n",
       "      <td>False</td>\n",
       "      <td>False</td>\n",
       "      <td>False</td>\n",
       "      <td>False</td>\n",
       "    </tr>\n",
       "    <tr>\n",
       "      <th>3</th>\n",
       "      <td>4</td>\n",
       "      <td>191.0</td>\n",
       "      <td>30.0</td>\n",
       "      <td>63</td>\n",
       "      <td>0.017889</td>\n",
       "      <td>0.017889</td>\n",
       "      <td>0.053667</td>\n",
       "      <td>0.0000</td>\n",
       "      <td>0.0</td>\n",
       "      <td>0.000000</td>\n",
       "      <td>...</td>\n",
       "      <td>True</td>\n",
       "      <td>False</td>\n",
       "      <td>False</td>\n",
       "      <td>False</td>\n",
       "      <td>False</td>\n",
       "      <td>False</td>\n",
       "      <td>False</td>\n",
       "      <td>False</td>\n",
       "      <td>False</td>\n",
       "      <td>False</td>\n",
       "    </tr>\n",
       "    <tr>\n",
       "      <th>4</th>\n",
       "      <td>5</td>\n",
       "      <td>194.0</td>\n",
       "      <td>30.0</td>\n",
       "      <td>68</td>\n",
       "      <td>0.037799</td>\n",
       "      <td>0.000000</td>\n",
       "      <td>0.302394</td>\n",
       "      <td>0.0189</td>\n",
       "      <td>0.0</td>\n",
       "      <td>0.000000</td>\n",
       "      <td>...</td>\n",
       "      <td>True</td>\n",
       "      <td>False</td>\n",
       "      <td>False</td>\n",
       "      <td>False</td>\n",
       "      <td>False</td>\n",
       "      <td>False</td>\n",
       "      <td>False</td>\n",
       "      <td>False</td>\n",
       "      <td>False</td>\n",
       "      <td>False</td>\n",
       "    </tr>\n",
       "  </tbody>\n",
       "</table>\n",
       "<p>5 rows × 409 columns</p>\n",
       "</div>"
      ],
      "text/plain": [
       "   Unnamed: 0  height   age  appearance     goals   assists  yellow cards  \\\n",
       "0           0   189.0  32.0         104  0.000000  0.000000      0.009585   \n",
       "1           1   196.0  30.0          15  0.000000  0.000000      0.069018   \n",
       "2           3   175.0  25.0          82  0.028090  0.056180      0.224719   \n",
       "3           4   191.0  30.0          63  0.017889  0.017889      0.053667   \n",
       "4           5   194.0  30.0          68  0.037799  0.000000      0.302394   \n",
       "\n",
       "   second yellow cards  red cards  goals conceded  ...  \\\n",
       "0               0.0000        0.0        1.217252  ...   \n",
       "1               0.0000        0.0        1.242331  ...   \n",
       "2               0.0000        0.0        0.000000  ...   \n",
       "3               0.0000        0.0        0.000000  ...   \n",
       "4               0.0189        0.0        0.000000  ...   \n",
       "\n",
       "   position_Defender Centre-Back  position_Defender Left-Back  \\\n",
       "0                          False                        False   \n",
       "1                          False                        False   \n",
       "2                           True                        False   \n",
       "3                           True                        False   \n",
       "4                           True                        False   \n",
       "\n",
       "   position_Defender Right-Back  position_Goalkeeper  position_midfield  \\\n",
       "0                         False                 True              False   \n",
       "1                         False                 True              False   \n",
       "2                         False                False              False   \n",
       "3                         False                False              False   \n",
       "4                         False                False              False   \n",
       "\n",
       "   position_midfield-AttackingMidfield  position_midfield-CentralMidfield  \\\n",
       "0                                False                              False   \n",
       "1                                False                              False   \n",
       "2                                False                              False   \n",
       "3                                False                              False   \n",
       "4                                False                              False   \n",
       "\n",
       "   position_midfield-DefensiveMidfield  position_midfield-LeftMidfield  \\\n",
       "0                                False                           False   \n",
       "1                                False                           False   \n",
       "2                                False                           False   \n",
       "3                                False                           False   \n",
       "4                                False                           False   \n",
       "\n",
       "   position_midfield-RightMidfield  \n",
       "0                            False  \n",
       "1                            False  \n",
       "2                            False  \n",
       "3                            False  \n",
       "4                            False  \n",
       "\n",
       "[5 rows x 409 columns]"
      ]
     },
     "execution_count": 155,
     "metadata": {},
     "output_type": "execute_result"
    }
   ],
   "source": [
    "df_Football_Players.head()"
   ]
  },
  {
   "cell_type": "code",
   "execution_count": 156,
   "id": "ad393246",
   "metadata": {},
   "outputs": [
    {
     "data": {
      "text/plain": [
       "(10537, 409)"
      ]
     },
     "execution_count": 156,
     "metadata": {},
     "output_type": "execute_result"
    }
   ],
   "source": [
    "df_Football_Players.shape"
   ]
  },
  {
   "cell_type": "markdown",
   "id": "a91da6d5",
   "metadata": {},
   "source": [
    "#### 3. Feature selection\n"
   ]
  },
  {
   "cell_type": "code",
   "execution_count": 157,
   "id": "06273b88-a169-42e8-81f5-5d71cb3f9c21",
   "metadata": {},
   "outputs": [
    {
     "data": {
      "text/plain": [
       "current_value           1.000000\n",
       "highest_value           0.837063\n",
       "minutes played          0.421619\n",
       "appearance              0.420535\n",
       "award                   0.304447\n",
       "team_Manchester City    0.215586\n",
       "team_Arsenal FC         0.179663\n",
       "team_Bayern Munich      0.177779\n",
       "team_Real Madrid        0.170844\n",
       "Unnamed: 0             -0.383320\n",
       "Name: current_value, dtype: float64"
      ]
     },
     "execution_count": 157,
     "metadata": {},
     "output_type": "execute_result"
    }
   ],
   "source": [
    "correlation = df_Football_Players.corr()\n",
    "correlation[abs(correlation['current_value']) > 0.17]['current_value'].sort_values(ascending=False)"
   ]
  },
  {
   "cell_type": "code",
   "execution_count": 158,
   "id": "25a585f0-2b9c-42fa-bf21-cacc6aa3be3f",
   "metadata": {},
   "outputs": [
    {
     "data": {
      "text/plain": [
       "Index(['Unnamed: 0', 'appearance', 'minutes played', 'award', 'current_value',\n",
       "       'highest_value', 'team_Arsenal FC', 'team_Bayern Munich',\n",
       "       'team_Manchester City', 'team_Real Madrid'],\n",
       "      dtype='object')"
      ]
     },
     "execution_count": 158,
     "metadata": {},
     "output_type": "execute_result"
    }
   ],
   "source": [
    "# Set the correlation threshold\n",
    "threshold = 0.17  # You can change this value based on your requirement\n",
    "\n",
    "# Filter the correlations\n",
    "# We use `abs()` for absolute value to consider both strong positive and negative correlations\n",
    "selected_features = correlation[abs(correlation['current_value']) > threshold]['current_value'].index\n",
    "selected_features"
   ]
  },
  {
   "cell_type": "code",
   "execution_count": 159,
   "id": "db79d803-b75c-4686-a623-e8420321a90f",
   "metadata": {},
   "outputs": [
    {
     "data": {
      "text/html": [
       "<div>\n",
       "<style scoped>\n",
       "    .dataframe tbody tr th:only-of-type {\n",
       "        vertical-align: middle;\n",
       "    }\n",
       "\n",
       "    .dataframe tbody tr th {\n",
       "        vertical-align: top;\n",
       "    }\n",
       "\n",
       "    .dataframe thead th {\n",
       "        text-align: right;\n",
       "    }\n",
       "</style>\n",
       "<table border=\"1\" class=\"dataframe\">\n",
       "  <thead>\n",
       "    <tr style=\"text-align: right;\">\n",
       "      <th></th>\n",
       "      <th>Unnamed: 0</th>\n",
       "      <th>appearance</th>\n",
       "      <th>minutes played</th>\n",
       "      <th>award</th>\n",
       "      <th>current_value</th>\n",
       "      <th>highest_value</th>\n",
       "      <th>team_Arsenal FC</th>\n",
       "      <th>team_Bayern Munich</th>\n",
       "      <th>team_Manchester City</th>\n",
       "      <th>team_Real Madrid</th>\n",
       "    </tr>\n",
       "  </thead>\n",
       "  <tbody>\n",
       "    <tr>\n",
       "      <th>0</th>\n",
       "      <td>0</td>\n",
       "      <td>104</td>\n",
       "      <td>9390</td>\n",
       "      <td>13</td>\n",
       "      <td>15000000</td>\n",
       "      <td>70000000</td>\n",
       "      <td>False</td>\n",
       "      <td>False</td>\n",
       "      <td>False</td>\n",
       "      <td>False</td>\n",
       "    </tr>\n",
       "    <tr>\n",
       "      <th>1</th>\n",
       "      <td>1</td>\n",
       "      <td>15</td>\n",
       "      <td>1304</td>\n",
       "      <td>1</td>\n",
       "      <td>1500000</td>\n",
       "      <td>22000000</td>\n",
       "      <td>False</td>\n",
       "      <td>False</td>\n",
       "      <td>False</td>\n",
       "      <td>False</td>\n",
       "    </tr>\n",
       "    <tr>\n",
       "      <th>2</th>\n",
       "      <td>3</td>\n",
       "      <td>82</td>\n",
       "      <td>6408</td>\n",
       "      <td>9</td>\n",
       "      <td>50000000</td>\n",
       "      <td>50000000</td>\n",
       "      <td>False</td>\n",
       "      <td>False</td>\n",
       "      <td>False</td>\n",
       "      <td>False</td>\n",
       "    </tr>\n",
       "    <tr>\n",
       "      <th>3</th>\n",
       "      <td>4</td>\n",
       "      <td>63</td>\n",
       "      <td>5031</td>\n",
       "      <td>21</td>\n",
       "      <td>40000000</td>\n",
       "      <td>80000000</td>\n",
       "      <td>False</td>\n",
       "      <td>False</td>\n",
       "      <td>False</td>\n",
       "      <td>False</td>\n",
       "    </tr>\n",
       "    <tr>\n",
       "      <th>4</th>\n",
       "      <td>5</td>\n",
       "      <td>68</td>\n",
       "      <td>4762</td>\n",
       "      <td>1</td>\n",
       "      <td>25000000</td>\n",
       "      <td>70000000</td>\n",
       "      <td>False</td>\n",
       "      <td>False</td>\n",
       "      <td>False</td>\n",
       "      <td>False</td>\n",
       "    </tr>\n",
       "  </tbody>\n",
       "</table>\n",
       "</div>"
      ],
      "text/plain": [
       "   Unnamed: 0  appearance  minutes played  award  current_value  \\\n",
       "0           0         104            9390     13       15000000   \n",
       "1           1          15            1304      1        1500000   \n",
       "2           3          82            6408      9       50000000   \n",
       "3           4          63            5031     21       40000000   \n",
       "4           5          68            4762      1       25000000   \n",
       "\n",
       "   highest_value  team_Arsenal FC  team_Bayern Munich  team_Manchester City  \\\n",
       "0       70000000            False               False                 False   \n",
       "1       22000000            False               False                 False   \n",
       "2       50000000            False               False                 False   \n",
       "3       80000000            False               False                 False   \n",
       "4       70000000            False               False                 False   \n",
       "\n",
       "   team_Real Madrid  \n",
       "0             False  \n",
       "1             False  \n",
       "2             False  \n",
       "3             False  \n",
       "4             False  "
      ]
     },
     "execution_count": 159,
     "metadata": {},
     "output_type": "execute_result"
    }
   ],
   "source": [
    "df_Football_Players = df_Football_Players[selected_features]\n",
    "df_Football_Players.head()"
   ]
  },
  {
   "cell_type": "code",
   "execution_count": 160,
   "id": "72ece4b7-5508-403a-8fb0-f519fc74272a",
   "metadata": {},
   "outputs": [
    {
     "data": {
      "text/plain": [
       "(10537, 10)"
      ]
     },
     "execution_count": 160,
     "metadata": {},
     "output_type": "execute_result"
    }
   ],
   "source": [
    "df_Football_Players.shape"
   ]
  },
  {
   "cell_type": "markdown",
   "id": "1b724d28",
   "metadata": {},
   "source": [
    "### Prepare train and test data\n"
   ]
  },
  {
   "cell_type": "code",
   "execution_count": 161,
   "id": "5be16f08-a072-4a02-a3ee-6f9d57786fb4",
   "metadata": {},
   "outputs": [],
   "source": [
    "# Prepare data\n",
    "X = df_Football_Players.drop(['current_value'], axis=1)\n",
    "y = df_Football_Players['current_value']\n",
    "\n",
    "# Split data into training and testing sets\n",
    "X_train, X_test, y_train, y_test = train_test_split(X, y,\n",
    "                                                    test_size=0.2,\n",
    "                                                    shuffle=True,\n",
    "                                                    random_state=99)\n",
    "\n",
    "# sacle the data\n",
    "scaler = StandardScaler()\n",
    "scaler.fit(X_train)\n",
    "X_train_scaled = scaler.transform(X_train)\n",
    "X_test_scaled = scaler.transform(X_test)"
   ]
  },
  {
   "cell_type": "code",
   "execution_count": 162,
   "id": "f1058d84-e61e-4f5b-b66a-29931e77821b",
   "metadata": {},
   "outputs": [
    {
     "data": {
      "text/plain": [
       "(10537, 9)"
      ]
     },
     "execution_count": 162,
     "metadata": {},
     "output_type": "execute_result"
    }
   ],
   "source": [
    "X.shape"
   ]
  },
  {
   "cell_type": "code",
   "execution_count": 163,
   "id": "8406f58f-b825-4a15-8f6e-c68ca66bd483",
   "metadata": {},
   "outputs": [
    {
     "data": {
      "text/plain": [
       "(10537,)"
      ]
     },
     "execution_count": 163,
     "metadata": {},
     "output_type": "execute_result"
    }
   ],
   "source": [
    "y.shape"
   ]
  },
  {
   "cell_type": "markdown",
   "id": "6a913229",
   "metadata": {},
   "source": [
    "### Build the model"
   ]
  },
  {
   "cell_type": "code",
   "execution_count": 164,
   "id": "fa0008de",
   "metadata": {},
   "outputs": [],
   "source": [
    "# build the model\n",
    "model = LinearRegression()\n"
   ]
  },
  {
   "cell_type": "code",
   "execution_count": 165,
   "id": "fec3fe1d",
   "metadata": {},
   "outputs": [
    {
     "data": {
      "text/html": [
       "<style>#sk-container-id-5 {color: black;background-color: white;}#sk-container-id-5 pre{padding: 0;}#sk-container-id-5 div.sk-toggleable {background-color: white;}#sk-container-id-5 label.sk-toggleable__label {cursor: pointer;display: block;width: 100%;margin-bottom: 0;padding: 0.3em;box-sizing: border-box;text-align: center;}#sk-container-id-5 label.sk-toggleable__label-arrow:before {content: \"▸\";float: left;margin-right: 0.25em;color: #696969;}#sk-container-id-5 label.sk-toggleable__label-arrow:hover:before {color: black;}#sk-container-id-5 div.sk-estimator:hover label.sk-toggleable__label-arrow:before {color: black;}#sk-container-id-5 div.sk-toggleable__content {max-height: 0;max-width: 0;overflow: hidden;text-align: left;background-color: #f0f8ff;}#sk-container-id-5 div.sk-toggleable__content pre {margin: 0.2em;color: black;border-radius: 0.25em;background-color: #f0f8ff;}#sk-container-id-5 input.sk-toggleable__control:checked~div.sk-toggleable__content {max-height: 200px;max-width: 100%;overflow: auto;}#sk-container-id-5 input.sk-toggleable__control:checked~label.sk-toggleable__label-arrow:before {content: \"▾\";}#sk-container-id-5 div.sk-estimator input.sk-toggleable__control:checked~label.sk-toggleable__label {background-color: #d4ebff;}#sk-container-id-5 div.sk-label input.sk-toggleable__control:checked~label.sk-toggleable__label {background-color: #d4ebff;}#sk-container-id-5 input.sk-hidden--visually {border: 0;clip: rect(1px 1px 1px 1px);clip: rect(1px, 1px, 1px, 1px);height: 1px;margin: -1px;overflow: hidden;padding: 0;position: absolute;width: 1px;}#sk-container-id-5 div.sk-estimator {font-family: monospace;background-color: #f0f8ff;border: 1px dotted black;border-radius: 0.25em;box-sizing: border-box;margin-bottom: 0.5em;}#sk-container-id-5 div.sk-estimator:hover {background-color: #d4ebff;}#sk-container-id-5 div.sk-parallel-item::after {content: \"\";width: 100%;border-bottom: 1px solid gray;flex-grow: 1;}#sk-container-id-5 div.sk-label:hover label.sk-toggleable__label {background-color: #d4ebff;}#sk-container-id-5 div.sk-serial::before {content: \"\";position: absolute;border-left: 1px solid gray;box-sizing: border-box;top: 0;bottom: 0;left: 50%;z-index: 0;}#sk-container-id-5 div.sk-serial {display: flex;flex-direction: column;align-items: center;background-color: white;padding-right: 0.2em;padding-left: 0.2em;position: relative;}#sk-container-id-5 div.sk-item {position: relative;z-index: 1;}#sk-container-id-5 div.sk-parallel {display: flex;align-items: stretch;justify-content: center;background-color: white;position: relative;}#sk-container-id-5 div.sk-item::before, #sk-container-id-5 div.sk-parallel-item::before {content: \"\";position: absolute;border-left: 1px solid gray;box-sizing: border-box;top: 0;bottom: 0;left: 50%;z-index: -1;}#sk-container-id-5 div.sk-parallel-item {display: flex;flex-direction: column;z-index: 1;position: relative;background-color: white;}#sk-container-id-5 div.sk-parallel-item:first-child::after {align-self: flex-end;width: 50%;}#sk-container-id-5 div.sk-parallel-item:last-child::after {align-self: flex-start;width: 50%;}#sk-container-id-5 div.sk-parallel-item:only-child::after {width: 0;}#sk-container-id-5 div.sk-dashed-wrapped {border: 1px dashed gray;margin: 0 0.4em 0.5em 0.4em;box-sizing: border-box;padding-bottom: 0.4em;background-color: white;}#sk-container-id-5 div.sk-label label {font-family: monospace;font-weight: bold;display: inline-block;line-height: 1.2em;}#sk-container-id-5 div.sk-label-container {text-align: center;}#sk-container-id-5 div.sk-container {/* jupyter's `normalize.less` sets `[hidden] { display: none; }` but bootstrap.min.css set `[hidden] { display: none !important; }` so we also need the `!important` here to be able to override the default hidden behavior on the sphinx rendered scikit-learn.org. See: https://github.com/scikit-learn/scikit-learn/issues/21755 */display: inline-block !important;position: relative;}#sk-container-id-5 div.sk-text-repr-fallback {display: none;}</style><div id=\"sk-container-id-5\" class=\"sk-top-container\"><div class=\"sk-text-repr-fallback\"><pre>LinearRegression()</pre><b>In a Jupyter environment, please rerun this cell to show the HTML representation or trust the notebook. <br />On GitHub, the HTML representation is unable to render, please try loading this page with nbviewer.org.</b></div><div class=\"sk-container\" hidden><div class=\"sk-item\"><div class=\"sk-estimator sk-toggleable\"><input class=\"sk-toggleable__control sk-hidden--visually\" id=\"sk-estimator-id-5\" type=\"checkbox\" checked><label for=\"sk-estimator-id-5\" class=\"sk-toggleable__label sk-toggleable__label-arrow\">LinearRegression</label><div class=\"sk-toggleable__content\"><pre>LinearRegression()</pre></div></div></div></div></div>"
      ],
      "text/plain": [
       "LinearRegression()"
      ]
     },
     "execution_count": 165,
     "metadata": {},
     "output_type": "execute_result"
    }
   ],
   "source": [
    "# Train the Model\n",
    "# Fit the model on the training data\n",
    "model.fit(X_train_scaled, y_train)"
   ]
  },
  {
   "cell_type": "code",
   "execution_count": 166,
   "id": "230308c2",
   "metadata": {},
   "outputs": [],
   "source": [
    "# Test the Model\n",
    "# Predict and evaluate the model\n",
    "y_pred = model.predict(X_test_scaled)      # Linear regression model"
   ]
  },
  {
   "cell_type": "code",
   "execution_count": 167,
   "id": "9454cfd2",
   "metadata": {},
   "outputs": [],
   "source": [
    "# Interpretation of the Model\n",
    "coeff_df = pd.DataFrame(model.coef_,X.columns,columns=['Coefficient'])   # Linear model cofficients\n"
   ]
  },
  {
   "cell_type": "code",
   "execution_count": 168,
   "id": "bc73b541",
   "metadata": {},
   "outputs": [
    {
     "data": {
      "text/html": [
       "<div>\n",
       "<style scoped>\n",
       "    .dataframe tbody tr th:only-of-type {\n",
       "        vertical-align: middle;\n",
       "    }\n",
       "\n",
       "    .dataframe tbody tr th {\n",
       "        vertical-align: top;\n",
       "    }\n",
       "\n",
       "    .dataframe thead th {\n",
       "        text-align: right;\n",
       "    }\n",
       "</style>\n",
       "<table border=\"1\" class=\"dataframe\">\n",
       "  <thead>\n",
       "    <tr style=\"text-align: right;\">\n",
       "      <th></th>\n",
       "      <th>Coefficient</th>\n",
       "    </tr>\n",
       "  </thead>\n",
       "  <tbody>\n",
       "    <tr>\n",
       "      <th>Unnamed: 0</th>\n",
       "      <td>-1.424180e+04</td>\n",
       "    </tr>\n",
       "    <tr>\n",
       "      <th>appearance</th>\n",
       "      <td>-1.084387e+06</td>\n",
       "    </tr>\n",
       "    <tr>\n",
       "      <th>minutes played</th>\n",
       "      <td>1.991317e+06</td>\n",
       "    </tr>\n",
       "    <tr>\n",
       "      <th>award</th>\n",
       "      <td>-1.957826e+06</td>\n",
       "    </tr>\n",
       "    <tr>\n",
       "      <th>highest_value</th>\n",
       "      <td>8.293270e+06</td>\n",
       "    </tr>\n",
       "    <tr>\n",
       "      <th>team_Arsenal FC</th>\n",
       "      <td>5.814591e+05</td>\n",
       "    </tr>\n",
       "    <tr>\n",
       "      <th>team_Bayern Munich</th>\n",
       "      <td>5.869912e+05</td>\n",
       "    </tr>\n",
       "    <tr>\n",
       "      <th>team_Manchester City</th>\n",
       "      <td>7.066661e+05</td>\n",
       "    </tr>\n",
       "    <tr>\n",
       "      <th>team_Real Madrid</th>\n",
       "      <td>3.073203e+05</td>\n",
       "    </tr>\n",
       "  </tbody>\n",
       "</table>\n",
       "</div>"
      ],
      "text/plain": [
       "                       Coefficient\n",
       "Unnamed: 0           -1.424180e+04\n",
       "appearance           -1.084387e+06\n",
       "minutes played        1.991317e+06\n",
       "award                -1.957826e+06\n",
       "highest_value         8.293270e+06\n",
       "team_Arsenal FC       5.814591e+05\n",
       "team_Bayern Munich    5.869912e+05\n",
       "team_Manchester City  7.066661e+05\n",
       "team_Real Madrid      3.073203e+05"
      ]
     },
     "execution_count": 168,
     "metadata": {},
     "output_type": "execute_result"
    }
   ],
   "source": [
    "coeff_df"
   ]
  },
  {
   "cell_type": "code",
   "execution_count": 169,
   "id": "6e5d22fc",
   "metadata": {},
   "outputs": [
    {
     "name": "stdout",
     "output_type": "stream",
     "text": [
      " Linear regression intercept: 3760325.068216871\n"
     ]
    }
   ],
   "source": [
    "print(f\" Linear regression intercept: {model.intercept_}\") \n"
   ]
  },
  {
   "cell_type": "markdown",
   "id": "c4b58997",
   "metadata": {},
   "source": [
    "#### Evaluating the Model\n"
   ]
  },
  {
   "cell_type": "markdown",
   "id": "08d5fb35",
   "metadata": {},
   "source": [
    "##### Mean Square Error"
   ]
  },
  {
   "cell_type": "code",
   "execution_count": 170,
   "id": "7e26da03",
   "metadata": {},
   "outputs": [],
   "source": [
    "# Mean Square Error\n",
    "y_base = [y_train.mean()] * len(y_test)\n",
    "#y_base\n"
   ]
  },
  {
   "cell_type": "code",
   "execution_count": 171,
   "id": "3c4a5b71",
   "metadata": {},
   "outputs": [
    {
     "name": "stdout",
     "output_type": "stream",
     "text": [
      "Mean Squared Error of base model: 5.421743e+13\n"
     ]
    }
   ],
   "source": [
    "# our benchmark model\n",
    "mse_base = mean_squared_error(y_test, y_base )\n",
    "print(f'Mean Squared Error of base model: {mse_base:2e}')"
   ]
  },
  {
   "cell_type": "code",
   "execution_count": 172,
   "id": "ba39bb49",
   "metadata": {},
   "outputs": [
    {
     "name": "stdout",
     "output_type": "stream",
     "text": [
      "Mean Squared Error for training: 2.250273e+13\n",
      "Mean Squared Error for testing: 1.393151e+13\n"
     ]
    }
   ],
   "source": [
    "# MSE for Linear model\n",
    "mse_train = mean_squared_error(y_train, model.predict(X_train_scaled))\n",
    "mse_test = mean_squared_error(y_test, y_pred)\n",
    "print(f'Mean Squared Error for training: {mse_train:2e}')\n",
    "print(f'Mean Squared Error for testing: {mse_test:2e}')"
   ]
  },
  {
   "cell_type": "markdown",
   "id": "2dcef49c",
   "metadata": {},
   "source": [
    "\n",
    "##### Mean Absolute Error\n"
   ]
  },
  {
   "cell_type": "code",
   "execution_count": 173,
   "id": "95ca0dc5",
   "metadata": {},
   "outputs": [
    {
     "name": "stdout",
     "output_type": "stream",
     "text": [
      "Mean Absolute  Error of base model: 4.069883e+06\n"
     ]
    }
   ],
   "source": [
    "# our benchmark model\n",
    "mae_base = mean_absolute_error(y_test, y_base )\n",
    "print(f'Mean Absolute  Error of base model: {mae_base:2e}')"
   ]
  },
  {
   "cell_type": "code",
   "execution_count": 174,
   "id": "c2dd90e9",
   "metadata": {},
   "outputs": [
    {
     "name": "stdout",
     "output_type": "stream",
     "text": [
      "Mean Absolute Error for training: 2.123033e+06\n",
      "Mean Absolute Error for testing: 1.881779e+06\n"
     ]
    }
   ],
   "source": [
    "# Linear model\n",
    "mae_train = mean_absolute_error(y_train, model.predict(X_train_scaled))\n",
    "mae_test = mean_absolute_error(y_test, y_pred)\n",
    "print(f'Mean Absolute Error for training: {mae_train:2e}')\n",
    "print(f'Mean Absolute Error for testing: {mae_test:2e}')"
   ]
  },
  {
   "cell_type": "markdown",
   "id": "169040de",
   "metadata": {},
   "source": [
    "##### Root Mean Squared Error\n"
   ]
  },
  {
   "cell_type": "code",
   "execution_count": 175,
   "id": "7998e256",
   "metadata": {},
   "outputs": [
    {
     "name": "stdout",
     "output_type": "stream",
     "text": [
      "Root Mean Squared  Error of base model: 7.363249e+06\n"
     ]
    }
   ],
   "source": [
    "# our benchmark model\n",
    "print(f'Root Mean Squared  Error of base model: {np.sqrt(mse_base):2e}')"
   ]
  },
  {
   "cell_type": "code",
   "execution_count": 176,
   "id": "94db7f65",
   "metadata": {},
   "outputs": [
    {
     "name": "stdout",
     "output_type": "stream",
     "text": [
      "Root Mean Squared Error for training: 4.743704e+06\n",
      "Root Mean Squared Error for testing: 3.732494e+06\n"
     ]
    }
   ],
   "source": [
    "# RMSE for Linear model\n",
    "\n",
    "print(f'Root Mean Squared Error for training: {np.sqrt(mse_train):2e}')\n",
    "print(f'Root Mean Squared Error for testing: {np.sqrt(mse_test):2e}')"
   ]
  },
  {
   "cell_type": "markdown",
   "id": "30d4b856",
   "metadata": {},
   "source": [
    "##### R Square\n"
   ]
  },
  {
   "cell_type": "code",
   "execution_count": 177,
   "id": "6822cd0e",
   "metadata": {},
   "outputs": [
    {
     "name": "stdout",
     "output_type": "stream",
     "text": [
      "R Square for training: 0.7516832054504949\n",
      "R Square for testing: 0.7410754978003635\n"
     ]
    }
   ],
   "source": [
    "# Linear model r2 score\n",
    "r2_score_train = r2_score(y_train, model.predict(X_train_scaled))\n",
    "r2_score_test = r2_score(y_test, y_pred)\n",
    "print(f'R Square for training: {r2_score_train}')\n",
    "print(f'R Square for testing: {r2_score_test}')"
   ]
  },
  {
   "cell_type": "markdown",
   "id": "0e1e871b",
   "metadata": {},
   "source": [
    "#### Predictions vs. Real Values\n"
   ]
  },
  {
   "cell_type": "code",
   "execution_count": 178,
   "id": "ad5b2bb9",
   "metadata": {},
   "outputs": [
    {
     "data": {
      "text/plain": [
       "array([-944586.83260439, 4563217.09278971,  473460.36254594, ...,\n",
       "        433951.70072526,  746084.40595346,  768701.09203792])"
      ]
     },
     "execution_count": 178,
     "metadata": {},
     "output_type": "execute_result"
    }
   ],
   "source": [
    "predictions = model.predict(X_test_scaled)\n",
    "predictions"
   ]
  },
  {
   "cell_type": "code",
   "execution_count": 179,
   "id": "cc5cd3f5",
   "metadata": {},
   "outputs": [
    {
     "data": {
      "text/plain": [
       "array([  125000, 14000000,   500000, ...,   400000,   400000,   500000],\n",
       "      dtype=int64)"
      ]
     },
     "execution_count": 179,
     "metadata": {},
     "output_type": "execute_result"
    }
   ],
   "source": [
    "Real_Values = np.array(y_test)\n",
    "Real_Values"
   ]
  },
  {
   "cell_type": "markdown",
   "id": "58cf4d41",
   "metadata": {},
   "source": [
    "## Lasso & Ridge Regression"
   ]
  },
  {
   "cell_type": "code",
   "execution_count": 180,
   "id": "3d43f177",
   "metadata": {},
   "outputs": [],
   "source": [
    "from sklearn.linear_model import Lasso, Ridge\n",
    "from sklearn.model_selection import GridSearchCV\n",
    "\n",
    "# Lasso Regression\n",
    "lasso_model = Lasso()  # Adjust alpha for regularization strength\n",
    "\n",
    "\n",
    "# Ridge Regression\n",
    "ridge_model = Ridge()  # Adjust alpha for regularization strength\n"
   ]
  },
  {
   "cell_type": "code",
   "execution_count": 181,
   "id": "848955d3",
   "metadata": {},
   "outputs": [],
   "source": [
    "param_grid = {\n",
    "    'alpha': [0, 0.003, 0.0002, 0.001, 0.01, 0.5, 1, 5]  # Regularization strength\n",
    "}\n",
    "grid_search_ridge = GridSearchCV(estimator=ridge_model,\n",
    "                           param_grid=param_grid,\n",
    "                           cv=5,\n",
    "                           scoring='neg_mean_squared_error', \n",
    "                           verbose=1)\n",
    "\n",
    "grid_search_lasso = GridSearchCV(estimator=lasso_model,\n",
    "                           param_grid=param_grid,\n",
    "                           cv=5,\n",
    "                           scoring='neg_mean_squared_error', \n",
    "                           verbose=1)"
   ]
  },
  {
   "cell_type": "code",
   "execution_count": 182,
   "id": "6a88b728",
   "metadata": {},
   "outputs": [
    {
     "name": "stdout",
     "output_type": "stream",
     "text": [
      "Fitting 5 folds for each of 8 candidates, totalling 40 fits\n",
      "Fitting 5 folds for each of 8 candidates, totalling 40 fits\n",
      "Best Parameters for ridge model: {'alpha': 5}\n",
      "Best Parameters for lasso model: {'alpha': 5}\n"
     ]
    }
   ],
   "source": [
    "# Fit GridSearchCV on the training data\n",
    "grid_search_ridge.fit(X_train_scaled, y_train)\n",
    "grid_search_lasso.fit(X_train_scaled, y_train)\n",
    "\n",
    "# Get the best parameters and best model\n",
    "\n",
    "# Ridge\n",
    "best_params_ridge = grid_search_ridge.best_params_\n",
    "best_model_ridge = grid_search_ridge.best_estimator_\n",
    "\n",
    "# Lasso\n",
    "best_params_lasso = grid_search_lasso.best_params_\n",
    "best_model_lasso = grid_search_lasso.best_estimator_\n",
    "\n",
    "print(\"Best Parameters for ridge model:\", best_params_ridge)\n",
    "print(\"Best Parameters for lasso model:\", best_params_lasso)"
   ]
  },
  {
   "cell_type": "markdown",
   "id": "482ba1ba",
   "metadata": {},
   "source": [
    "#### Test the Model"
   ]
  },
  {
   "cell_type": "code",
   "execution_count": 183,
   "id": "15508117",
   "metadata": {},
   "outputs": [],
   "source": [
    "# Predict and evaluate the model\n",
    "\n",
    "y_pred_ridge = best_model_ridge.predict(X_test_scaled) # Ridge model\n",
    "y_pred_lasso = best_model_lasso.predict(X_test_scaled) # Lasso model"
   ]
  },
  {
   "cell_type": "code",
   "execution_count": 184,
   "id": "47ca520d",
   "metadata": {},
   "outputs": [],
   "source": [
    "coeff_df_ridge = pd.DataFrame(best_model_ridge.coef_,X.columns,columns=['Coefficient']) # Ridge model cofficients\n",
    "coeff_df_lasso = pd.DataFrame(best_model_lasso.coef_,X.columns,columns=['Coefficient']) # Lasso model cofficients"
   ]
  },
  {
   "cell_type": "code",
   "execution_count": 185,
   "id": "eaca54af",
   "metadata": {},
   "outputs": [
    {
     "data": {
      "text/html": [
       "<div>\n",
       "<style scoped>\n",
       "    .dataframe tbody tr th:only-of-type {\n",
       "        vertical-align: middle;\n",
       "    }\n",
       "\n",
       "    .dataframe tbody tr th {\n",
       "        vertical-align: top;\n",
       "    }\n",
       "\n",
       "    .dataframe thead th {\n",
       "        text-align: right;\n",
       "    }\n",
       "</style>\n",
       "<table border=\"1\" class=\"dataframe\">\n",
       "  <thead>\n",
       "    <tr style=\"text-align: right;\">\n",
       "      <th></th>\n",
       "      <th>Coefficient</th>\n",
       "    </tr>\n",
       "  </thead>\n",
       "  <tbody>\n",
       "    <tr>\n",
       "      <th>Unnamed: 0</th>\n",
       "      <td>-1.570819e+04</td>\n",
       "    </tr>\n",
       "    <tr>\n",
       "      <th>appearance</th>\n",
       "      <td>-1.066203e+06</td>\n",
       "    </tr>\n",
       "    <tr>\n",
       "      <th>minutes played</th>\n",
       "      <td>1.974947e+06</td>\n",
       "    </tr>\n",
       "    <tr>\n",
       "      <th>award</th>\n",
       "      <td>-1.952463e+06</td>\n",
       "    </tr>\n",
       "    <tr>\n",
       "      <th>highest_value</th>\n",
       "      <td>8.283595e+06</td>\n",
       "    </tr>\n",
       "    <tr>\n",
       "      <th>team_Arsenal FC</th>\n",
       "      <td>5.818820e+05</td>\n",
       "    </tr>\n",
       "    <tr>\n",
       "      <th>team_Bayern Munich</th>\n",
       "      <td>5.870536e+05</td>\n",
       "    </tr>\n",
       "    <tr>\n",
       "      <th>team_Manchester City</th>\n",
       "      <td>7.072116e+05</td>\n",
       "    </tr>\n",
       "    <tr>\n",
       "      <th>team_Real Madrid</th>\n",
       "      <td>3.078395e+05</td>\n",
       "    </tr>\n",
       "  </tbody>\n",
       "</table>\n",
       "</div>"
      ],
      "text/plain": [
       "                       Coefficient\n",
       "Unnamed: 0           -1.570819e+04\n",
       "appearance           -1.066203e+06\n",
       "minutes played        1.974947e+06\n",
       "award                -1.952463e+06\n",
       "highest_value         8.283595e+06\n",
       "team_Arsenal FC       5.818820e+05\n",
       "team_Bayern Munich    5.870536e+05\n",
       "team_Manchester City  7.072116e+05\n",
       "team_Real Madrid      3.078395e+05"
      ]
     },
     "execution_count": 185,
     "metadata": {},
     "output_type": "execute_result"
    }
   ],
   "source": [
    "coeff_df_ridge"
   ]
  },
  {
   "cell_type": "code",
   "execution_count": 186,
   "id": "3b6063eb",
   "metadata": {},
   "outputs": [
    {
     "data": {
      "text/html": [
       "<div>\n",
       "<style scoped>\n",
       "    .dataframe tbody tr th:only-of-type {\n",
       "        vertical-align: middle;\n",
       "    }\n",
       "\n",
       "    .dataframe tbody tr th {\n",
       "        vertical-align: top;\n",
       "    }\n",
       "\n",
       "    .dataframe thead th {\n",
       "        text-align: right;\n",
       "    }\n",
       "</style>\n",
       "<table border=\"1\" class=\"dataframe\">\n",
       "  <thead>\n",
       "    <tr style=\"text-align: right;\">\n",
       "      <th></th>\n",
       "      <th>Coefficient</th>\n",
       "    </tr>\n",
       "  </thead>\n",
       "  <tbody>\n",
       "    <tr>\n",
       "      <th>Unnamed: 0</th>\n",
       "      <td>-1.423259e+04</td>\n",
       "    </tr>\n",
       "    <tr>\n",
       "      <th>appearance</th>\n",
       "      <td>-1.084286e+06</td>\n",
       "    </tr>\n",
       "    <tr>\n",
       "      <th>minutes played</th>\n",
       "      <td>1.991221e+06</td>\n",
       "    </tr>\n",
       "    <tr>\n",
       "      <th>award</th>\n",
       "      <td>-1.957815e+06</td>\n",
       "    </tr>\n",
       "    <tr>\n",
       "      <th>highest_value</th>\n",
       "      <td>8.293261e+06</td>\n",
       "    </tr>\n",
       "    <tr>\n",
       "      <th>team_Arsenal FC</th>\n",
       "      <td>5.814547e+05</td>\n",
       "    </tr>\n",
       "    <tr>\n",
       "      <th>team_Bayern Munich</th>\n",
       "      <td>5.869857e+05</td>\n",
       "    </tr>\n",
       "    <tr>\n",
       "      <th>team_Manchester City</th>\n",
       "      <td>7.066615e+05</td>\n",
       "    </tr>\n",
       "    <tr>\n",
       "      <th>team_Real Madrid</th>\n",
       "      <td>3.073142e+05</td>\n",
       "    </tr>\n",
       "  </tbody>\n",
       "</table>\n",
       "</div>"
      ],
      "text/plain": [
       "                       Coefficient\n",
       "Unnamed: 0           -1.423259e+04\n",
       "appearance           -1.084286e+06\n",
       "minutes played        1.991221e+06\n",
       "award                -1.957815e+06\n",
       "highest_value         8.293261e+06\n",
       "team_Arsenal FC       5.814547e+05\n",
       "team_Bayern Munich    5.869857e+05\n",
       "team_Manchester City  7.066615e+05\n",
       "team_Real Madrid      3.073142e+05"
      ]
     },
     "execution_count": 186,
     "metadata": {},
     "output_type": "execute_result"
    }
   ],
   "source": [
    "coeff_df_lasso"
   ]
  },
  {
   "cell_type": "code",
   "execution_count": 187,
   "id": "a36eb8eb",
   "metadata": {},
   "outputs": [
    {
     "name": "stdout",
     "output_type": "stream",
     "text": [
      " Ridge model intercept: 3760325.068216871\n",
      " Lasso model intercept: 3760325.068216871\n"
     ]
    }
   ],
   "source": [
    "# Print the intercept of the Models\n",
    "print(f\" Ridge model intercept: {best_model_ridge.intercept_}\") \n",
    "print(f\" Lasso model intercept: {best_model_lasso.intercept_}\") "
   ]
  },
  {
   "cell_type": "markdown",
   "id": "96070474",
   "metadata": {},
   "source": [
    "### Evaluating the Model"
   ]
  },
  {
   "cell_type": "markdown",
   "id": "6a8d32e7",
   "metadata": {},
   "source": [
    "##### Mean Square Error"
   ]
  },
  {
   "cell_type": "code",
   "execution_count": 188,
   "id": "4ba548bc",
   "metadata": {},
   "outputs": [
    {
     "name": "stdout",
     "output_type": "stream",
     "text": [
      "Mean Squared Error of base model: 5.421743e+13\n"
     ]
    }
   ],
   "source": [
    "# our benchmark model\n",
    "mse_base = mean_squared_error(y_test, y_base )\n",
    "print(f'Mean Squared Error of base model: {mse_base:2e}')"
   ]
  },
  {
   "cell_type": "code",
   "execution_count": 189,
   "id": "495ffd89",
   "metadata": {},
   "outputs": [
    {
     "name": "stdout",
     "output_type": "stream",
     "text": [
      "Mean Squared Error for training ridge model: 2.250281e+13\n",
      "Mean Squared Error for testing ridge model: 1.392710e+13\n"
     ]
    }
   ],
   "source": [
    "# MSE for Ridge model\n",
    "mse_train_ridge = mean_squared_error(y_train, best_model_ridge.predict(X_train_scaled))\n",
    "mse_test_ridge = mean_squared_error(y_test, y_pred_ridge)\n",
    "print(f'Mean Squared Error for training ridge model: {mse_train_ridge:2e}')\n",
    "print(f'Mean Squared Error for testing ridge model: {mse_test_ridge:2e}')"
   ]
  },
  {
   "cell_type": "code",
   "execution_count": 190,
   "id": "11a381df",
   "metadata": {},
   "outputs": [
    {
     "name": "stdout",
     "output_type": "stream",
     "text": [
      "Mean Squared Error for training lasso model: 2.250273e+13\n",
      "Mean Squared Error for testing lasso model: 1.393149e+13\n"
     ]
    }
   ],
   "source": [
    "# MSE Lasso model\n",
    "mse_train_lasso = mean_squared_error(y_train, best_model_lasso.predict(X_train_scaled))\n",
    "mse_test_lasso = mean_squared_error(y_test, y_pred_lasso)\n",
    "print(f'Mean Squared Error for training lasso model: {mse_train_lasso:2e}')\n",
    "print(f'Mean Squared Error for testing lasso model: {mse_test_lasso:2e}')"
   ]
  },
  {
   "cell_type": "code",
   "execution_count": 191,
   "id": "7c6854e4",
   "metadata": {},
   "outputs": [
    {
     "name": "stdout",
     "output_type": "stream",
     "text": [
      "Mean Absolute Error for training: 2.123028e+06\n",
      "Mean Absolute Error for testing: 1.881773e+06\n"
     ]
    }
   ],
   "source": [
    "# MSE Lasso model\n",
    "mae_train = mean_absolute_error(y_train, best_model_lasso.predict(X_train_scaled))\n",
    "mae_test = mean_absolute_error(y_test, y_pred_lasso)\n",
    "print(f'Mean Absolute Error for training: {mae_train:2e}')\n",
    "print(f'Mean Absolute Error for testing: {mae_test:2e}')"
   ]
  },
  {
   "cell_type": "markdown",
   "id": "a62d195c",
   "metadata": {},
   "source": [
    "##### Mean Absolute Error"
   ]
  },
  {
   "cell_type": "code",
   "execution_count": 192,
   "id": "fb06c821",
   "metadata": {},
   "outputs": [
    {
     "name": "stdout",
     "output_type": "stream",
     "text": [
      "Mean Absolute  Error of base model: 4.069883e+06\n"
     ]
    }
   ],
   "source": [
    "# our benchmark model\n",
    "mae_base = mean_absolute_error(y_test, y_base )\n",
    "print(f'Mean Absolute  Error of base model: {mae_base:2e}')"
   ]
  },
  {
   "cell_type": "code",
   "execution_count": 193,
   "id": "77ca8b1f",
   "metadata": {},
   "outputs": [
    {
     "name": "stdout",
     "output_type": "stream",
     "text": [
      "Mean Absolute Error for training ridge model: 2.122224e+06\n",
      "Mean Absolute Error for testing ridge model: 1.880871e+06\n"
     ]
    }
   ],
   "source": [
    "# MSE for Ridge model\n",
    "mae_train_ridge = mean_absolute_error(y_train, best_model_ridge.predict(X_train_scaled))\n",
    "mae_test_ridge = mean_absolute_error(y_test, y_pred_ridge)\n",
    "print(f'Mean Absolute Error for training ridge model: {mae_train_ridge:2e}')\n",
    "print(f'Mean Absolute Error for testing ridge model: {mae_test_ridge:2e}')"
   ]
  },
  {
   "cell_type": "code",
   "execution_count": 194,
   "id": "71d1a6aa",
   "metadata": {},
   "outputs": [
    {
     "name": "stdout",
     "output_type": "stream",
     "text": [
      "Mean Absolute Error for training lasso model: 2.123028e+06\n",
      "Mean Absolute Error for testing lasso model: 1.881773e+06\n"
     ]
    }
   ],
   "source": [
    "# Lasso model\n",
    "mae_train_lasso = mean_absolute_error(y_train, best_model_lasso.predict(X_train_scaled))\n",
    "mae_test_lasso = mean_absolute_error(y_test, y_pred_lasso)\n",
    "print(f'Mean Absolute Error for training lasso model: {mae_train_lasso:2e}')\n",
    "print(f'Mean Absolute Error for testing lasso model: {mae_test_lasso:2e}')"
   ]
  },
  {
   "cell_type": "markdown",
   "id": "cfa6d0a6",
   "metadata": {},
   "source": [
    "##### Root Mean Squared Error"
   ]
  },
  {
   "cell_type": "code",
   "execution_count": 195,
   "id": "af59938a",
   "metadata": {},
   "outputs": [
    {
     "name": "stdout",
     "output_type": "stream",
     "text": [
      "Root Mean Squared  Error of base model: 7.363249e+06\n"
     ]
    }
   ],
   "source": [
    "# our benchmark model\n",
    "print(f'Root Mean Squared  Error of base model: {np.sqrt(mse_base):2e}')"
   ]
  },
  {
   "cell_type": "code",
   "execution_count": 196,
   "id": "e90be359",
   "metadata": {},
   "outputs": [
    {
     "name": "stdout",
     "output_type": "stream",
     "text": [
      "Root Mean Squared Error for training ridge model: 4.743713e+06\n",
      "Root Mean Squared Error for testing ridge model: 3.731903e+06\n"
     ]
    }
   ],
   "source": [
    "# RMSE for Ridge model\n",
    "\n",
    "print(f'Root Mean Squared Error for training ridge model: {np.sqrt(mse_train_ridge):2e}')\n",
    "print(f'Root Mean Squared Error for testing ridge model: {np.sqrt(mse_test_ridge):2e}')"
   ]
  },
  {
   "cell_type": "code",
   "execution_count": 197,
   "id": "e79a1bc8",
   "metadata": {},
   "outputs": [
    {
     "name": "stdout",
     "output_type": "stream",
     "text": [
      "Root Mean Squared Error for training lasso model: 4.743704e+06\n",
      "Root Mean Squared Error for testing lasso model: 3.732491e+06\n"
     ]
    }
   ],
   "source": [
    "# RMSE Lasso model\n",
    "\n",
    "print(f'Root Mean Squared Error for training lasso model: {np.sqrt(mse_train_lasso):2e}')\n",
    "print(f'Root Mean Squared Error for testing lasso model: {np.sqrt(mse_test_lasso):2e}')"
   ]
  },
  {
   "cell_type": "markdown",
   "id": "11043ecb",
   "metadata": {},
   "source": [
    "##### R Square"
   ]
  },
  {
   "cell_type": "code",
   "execution_count": 198,
   "id": "bab290ae",
   "metadata": {},
   "outputs": [
    {
     "name": "stdout",
     "output_type": "stream",
     "text": [
      "R Square for training ridge model: 0.751682279366433\n",
      "R Square for testing ridge model: 0.7411574704398501\n"
     ]
    }
   ],
   "source": [
    "# Ridge model r2 score\n",
    "r2_score_train_ridge = r2_score(y_train, best_model_ridge.predict(X_train_scaled))\n",
    "r2_score_test_ridge = r2_score(y_test, y_pred_ridge)\n",
    "print(f'R Square for training ridge model: {r2_score_train_ridge}')\n",
    "print(f'R Square for testing ridge model: {r2_score_test_ridge}')"
   ]
  },
  {
   "cell_type": "code",
   "execution_count": 199,
   "id": "b3f86620",
   "metadata": {},
   "outputs": [
    {
     "name": "stdout",
     "output_type": "stream",
     "text": [
      "R Square for training lasso model: 0.7516832054367601\n",
      "R Square for testing lasso model: 0.741075907602712\n"
     ]
    }
   ],
   "source": [
    "# Lasso model r2 score\n",
    "r2_score_train_lasso = r2_score(y_train, best_model_lasso.predict(X_train_scaled))\n",
    "r2_score_test_lasso = r2_score(y_test, y_pred_lasso)\n",
    "print(f'R Square for training lasso model: {r2_score_train_lasso}')\n",
    "print(f'R Square for testing lasso model: {r2_score_test_lasso}')"
   ]
  },
  {
   "cell_type": "code",
   "execution_count": 200,
   "id": "45806ef1",
   "metadata": {},
   "outputs": [
    {
     "data": {
      "image/png": "[encoded data removed]",
      "text/plain": [
       "<Figure size 1500x500 with 3 Axes>"
      ]
     },
     "metadata": {},
     "output_type": "display_data"
    }
   ],
   "source": [
    "# Linear Model\n",
    "plt.figure(figsize=(15, 5))\n",
    "\n",
    "plt.subplot(1, 3, 1)\n",
    "plt.scatter(y_test, y_pred)\n",
    "plt.plot([y_test.min(), y_test.max()], [y_test.min(), y_test.max()], color='red', lw=1)\n",
    "plt.xlabel('Real Values')\n",
    "plt.ylabel('Predictions')\n",
    "plt.title('Linear Model: Real Values vs Predictions')\n",
    "\n",
    "# Ridge Model\n",
    "plt.subplot(1, 3, 2)\n",
    "plt.scatter(y_test, y_pred_ridge)\n",
    "plt.plot([y_test.min(), y_test.max()], [y_test.min(), y_test.max()], color='red', lw=1)\n",
    "plt.xlabel('Real Values')\n",
    "plt.ylabel('Predictions')\n",
    "plt.title('Ridge Model: Real Values vs Predictions')\n",
    "\n",
    "# Lasso Model\n",
    "plt.subplot(1, 3, 3)\n",
    "plt.scatter(y_test, y_pred_lasso)\n",
    "plt.plot([y_test.min(), y_test.max()], [y_test.min(), y_test.max()], color='red', lw=1)\n",
    "plt.xlabel('Real Values')\n",
    "plt.ylabel('Predictions')\n",
    "plt.title('Lasso Model: Real Values vs Predictions')\n",
    "\n",
    "plt.tight_layout()\n",
    "plt.show()"
   ]
  },
  {
   "cell_type": "markdown",
   "id": "9b487a78",
   "metadata": {},
   "source": [
    "## Residual Histogram\n"
   ]
  },
  {
   "cell_type": "code",
   "execution_count": 201,
   "id": "9f995f82",
   "metadata": {},
   "outputs": [
    {
     "data": {
      "image/png": "[encoded data removed]",
      "text/plain": [
       "<Figure size 1500x500 with 3 Axes>"
      ]
     },
     "metadata": {},
     "output_type": "display_data"
    }
   ],
   "source": [
    "plt.figure(figsize=(15, 5))\n",
    "\n",
    "plt.subplot(1, 3, 1)\n",
    "sns.distplot((y_test - y_pred), bins=50)\n",
    "plt.title('Linear Model Residuals')\n",
    "\n",
    "plt.subplot(1, 3, 2)\n",
    "sns.distplot((y_test - y_pred_ridge), bins=50)\n",
    "plt.title('Ridge Model Residuals')\n",
    "\n",
    "plt.subplot(1, 3, 3)\n",
    "sns.distplot((y_test - y_pred_lasso), bins=50)\n",
    "plt.title('Lasso Model Residuals')\n",
    "\n",
    "plt.tight_layout()\n",
    "plt.show()"
   ]
  }
 ],
 "metadata": {
  "kernelspec": {
   "display_name": "Python 3",
   "language": "python",
   "name": "python3"
  },
  "language_info": {
   "codemirror_mode": {
    "name": "ipython",
    "version": 3
   },
   "file_extension": ".py",
   "mimetype": "text/x-python",
   "name": "python",
   "nbconvert_exporter": "python",
   "pygments_lexer": "ipython3",
   "version": "3.10.8"
  }
 },
 "nbformat": 4,
 "nbformat_minor": 5
}
